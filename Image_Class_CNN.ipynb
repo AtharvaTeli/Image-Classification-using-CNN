{
  "cells": [
    {
      "cell_type": "code",
      "execution_count": 28,
      "metadata": {
        "id": "_9xwFMe1XUoT"
      },
      "outputs": [],
      "source": [
        "import tensorflow as tf\n",
        "from keras import models, datasets, layers\n"
      ]
    },
    {
      "cell_type": "code",
      "execution_count": 29,
      "metadata": {
        "id": "tFvuZMrre382"
      },
      "outputs": [],
      "source": [
        "(train_images, train_labels), (test_images, test_labels) = tf.keras.datasets.cifar10.load_data()"
      ]
    },
    {
      "cell_type": "code",
      "execution_count": 30,
      "metadata": {
        "id": "MkboxZIqe8zy"
      },
      "outputs": [],
      "source": [
        "train_images = train_images/200.0\n",
        "test_images = test_images/200.0"
      ]
    },
    {
      "cell_type": "code",
      "execution_count": 31,
      "metadata": {
        "colab": {
          "base_uri": "https://localhost:8080/"
        },
        "id": "tIOnt3qFgYpR",
        "outputId": "ede73d76-da5d-436f-8057-e84feea5329d"
      },
      "outputs": [
        {
          "output_type": "stream",
          "name": "stdout",
          "text": [
            "Train image shape: (50000, 32, 32, 3)\n",
            "Train labels shape: (50000, 1)\n",
            "Test images shape: (10000, 32, 32, 3)\n",
            "Test labels shape: (10000, 1)\n"
          ]
        }
      ],
      "source": [
        "print(\"Train image shape:\", train_images.shape)\n",
        "print(\"Train labels shape:\", train_labels.shape)\n",
        "print(\"Test images shape:\", test_images.shape)\n",
        "print(\"Test labels shape:\", test_labels.shape)"
      ]
    },
    {
      "cell_type": "code",
      "execution_count": 32,
      "metadata": {
        "id": "nvPwwptThClJ"
      },
      "outputs": [],
      "source": [
        "model = models.Sequential()\n",
        "model.add(layers.Conv2D(32,(3,3), activation = 'relu', input_shape=(32,32,3)))\n",
        "model.add(layers.MaxPooling2D(2,2))\n",
        "model.add(layers.Conv2D(64,(3,3), activation='relu'))\n",
        "model.add(layers.MaxPooling2D(2,2))\n",
        "model.add(layers.Conv2D(64,(3,3), activation='relu'))"
      ]
    },
    {
      "cell_type": "code",
      "execution_count": 33,
      "metadata": {
        "id": "r_vX4VnbiHd3"
      },
      "outputs": [],
      "source": [
        "model.add(layers.Flatten())\n",
        "model.add(layers.Dense(64, activation='relu'))\n",
        "model.add(layers.Dense(10))"
      ]
    },
    {
      "cell_type": "code",
      "execution_count": 34,
      "metadata": {
        "id": "1BoeH6RCkS8C"
      },
      "outputs": [],
      "source": [
        "model.compile(optimizer='adam', loss=tf.keras.losses.SparseCategoricalCrossentropy(from_logits=True), metrics = ['accuracy'])"
      ]
    },
    {
      "cell_type": "code",
      "execution_count": 36,
      "metadata": {
        "colab": {
          "base_uri": "https://localhost:8080/"
        },
        "id": "BHRQhrL6kx8N",
        "outputId": "7b1c3325-7382-4add-806a-f8469fb2788b"
      },
      "outputs": [
        {
          "output_type": "stream",
          "name": "stdout",
          "text": [
            "Epoch 1/10\n",
            "1563/1563 [==============================] - 77s 49ms/step - loss: 0.5797 - accuracy: 0.7937 - val_loss: 0.9302 - val_accuracy: 0.6945\n",
            "Epoch 2/10\n",
            "1563/1563 [==============================] - 75s 48ms/step - loss: 0.5406 - accuracy: 0.8105 - val_loss: 0.9188 - val_accuracy: 0.7016\n",
            "Epoch 3/10\n",
            "1563/1563 [==============================] - 76s 48ms/step - loss: 0.5102 - accuracy: 0.8209 - val_loss: 1.0153 - val_accuracy: 0.6864\n",
            "Epoch 4/10\n",
            "1563/1563 [==============================] - 75s 48ms/step - loss: 0.4795 - accuracy: 0.8318 - val_loss: 0.9776 - val_accuracy: 0.7027\n",
            "Epoch 5/10\n",
            "1563/1563 [==============================] - 74s 48ms/step - loss: 0.4514 - accuracy: 0.8402 - val_loss: 1.1350 - val_accuracy: 0.6795\n",
            "Epoch 6/10\n",
            "1563/1563 [==============================] - 74s 47ms/step - loss: 0.4209 - accuracy: 0.8507 - val_loss: 1.0919 - val_accuracy: 0.6936\n",
            "Epoch 7/10\n",
            "1563/1563 [==============================] - 75s 48ms/step - loss: 0.3968 - accuracy: 0.8603 - val_loss: 1.0855 - val_accuracy: 0.7038\n",
            "Epoch 8/10\n",
            "1563/1563 [==============================] - 74s 47ms/step - loss: 0.3721 - accuracy: 0.8658 - val_loss: 1.1509 - val_accuracy: 0.6941\n",
            "Epoch 9/10\n",
            "1563/1563 [==============================] - 73s 46ms/step - loss: 0.3535 - accuracy: 0.8735 - val_loss: 1.1797 - val_accuracy: 0.6875\n",
            "Epoch 10/10\n",
            "1563/1563 [==============================] - 75s 48ms/step - loss: 0.3285 - accuracy: 0.8835 - val_loss: 1.2158 - val_accuracy: 0.6958\n",
            "313/313 - 4s - loss: 1.2158 - accuracy: 0.6958 - 4s/epoch - 13ms/step\n",
            "Test accuracy: 0.6958000063896179\n"
          ]
        }
      ],
      "source": [
        "model.fit(train_images, train_labels, epochs=10, validation_data=(test_images, test_labels))\n",
        "\n",
        "# Evaluate the model\n",
        "test_loss, test_acc = model.evaluate(test_images, test_labels, verbose=2)\n",
        "print(\"Test accuracy:\", test_acc)"
      ]
    },
    {
      "cell_type": "code",
      "execution_count": null,
      "metadata": {
        "id": "Bfzd07QrlA3y"
      },
      "outputs": [],
      "source": []
    }
  ],
  "metadata": {
    "colab": {
      "provenance": []
    },
    "kernelspec": {
      "display_name": "Python 3",
      "name": "python3"
    },
    "language_info": {
      "name": "python"
    }
  },
  "nbformat": 4,
  "nbformat_minor": 0
}